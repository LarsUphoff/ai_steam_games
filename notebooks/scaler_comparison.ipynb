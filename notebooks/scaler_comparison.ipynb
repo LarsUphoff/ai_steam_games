{
 "cells": [
  {
   "cell_type": "markdown",
   "id": "4b77db84",
   "metadata": {},
   "source": [
    "# Scaler Comparison - Steam Games Dataset\n",
    "\n",
    "1. PowerTransformer with Yeo-Johnson\n",
    "2. QuantileTransformer with uniform distribution\n",
    "3. RobustScaler (median and IQR based)"
   ]
  },
  {
   "cell_type": "code",
   "execution_count": null,
   "id": "8870ce81",
   "metadata": {},
   "outputs": [],
   "source": [
    "import sys\n",
    "sys.path.append(\"../src\")\n",
    "\n",
    "import pandas as pd\n",
    "import numpy as np\n",
    "import plotly.graph_objects as go\n",
    "from plotly.subplots import make_subplots\n",
    "\n",
    "from data_preprocessing import (\n",
    "    base_pipeline,\n",
    "    final_cleaning_pipeline,\n",
    "    power_scaler,\n",
    "    quantile_scaler,\n",
    "    robust_scaler,\n",
    ")\n",
    "\n",
    "pd.set_option(\"display.max_columns\", None)"
   ]
  },
  {
   "cell_type": "markdown",
   "id": "47ea88b0",
   "metadata": {},
   "source": [
    "## Data Preparation"
   ]
  },
  {
   "cell_type": "code",
   "execution_count": null,
   "id": "e521cd0c",
   "metadata": {},
   "outputs": [],
   "source": [
    "base_pipeline.set_params(data_loading__filepath=\"../data/raw/games.csv\")\n",
    "pre_outlier_df = base_pipeline.fit_transform(None)\n",
    "base_df = final_cleaning_pipeline.fit_transform(pre_outlier_df)\n",
    "\n",
    "print(f\"Base dataset shape: {base_df.shape}\")\n",
    "\n",
    "numeric_columns = base_df.select_dtypes(include=[np.number]).columns\n",
    "print(f\"Numeric columns: {list(numeric_columns)}\")"
   ]
  },
  {
   "cell_type": "markdown",
   "id": "774ac74c",
   "metadata": {},
   "source": [
    "## Apply Different Scalers"
   ]
  },
  {
   "cell_type": "code",
   "execution_count": null,
   "id": "9023432e",
   "metadata": {},
   "outputs": [],
   "source": [
    "df_power = power_scaler.fit_transform(base_df.copy())\n",
    "df_quantile = quantile_scaler.fit_transform(base_df.copy())\n",
    "df_robust = robust_scaler.fit_transform(base_df.copy())\n",
    "\n",
    "scalers_data = {\n",
    "    'PowerTransformer (Yeo-Johnson)': df_power,\n",
    "    'QuantileTransformer (Uniform)': df_quantile,\n",
    "    'RobustScaler': df_robust\n",
    "}\n",
    "\n",
    "print(\"All scalers applied successfully!\")"
   ]
  },
  {
   "cell_type": "markdown",
   "id": "4c52f66d",
   "metadata": {},
   "source": [
    "## Statistical Comparison"
   ]
  },
  {
   "cell_type": "code",
   "execution_count": null,
   "id": "a8166345",
   "metadata": {},
   "outputs": [],
   "source": [
    "comparison_stats = {}\n",
    "\n",
    "for scaler_name, df_scaled in scalers_data.items():\n",
    "    stats = df_scaled[numeric_columns].describe()\n",
    "    comparison_stats[scaler_name] = stats\n",
    "    \n",
    "    print(f\"\\n=== {scaler_name} Statistics ===\")\n",
    "    print(f\"Mean range: [{stats.loc['mean'].min():.3f}, {stats.loc['mean'].max():.3f}]\")\n",
    "    print(f\"Std range: [{stats.loc['std'].min():.3f}, {stats.loc['std'].max():.3f}]\")\n",
    "    print(f\"Min range: [{stats.loc['min'].min():.3f}, {stats.loc['min'].max():.3f}]\")\n",
    "    print(f\"Max range: [{stats.loc['max'].min():.3f}, {stats.loc['max'].max():.3f}]\")"
   ]
  },
  {
   "cell_type": "markdown",
   "id": "bbeab4f3",
   "metadata": {},
   "source": [
    "## Distribution Comparison\n",
    "\n",
    "### Select Key Columns for Detailed Analysis"
   ]
  },
  {
   "cell_type": "code",
   "execution_count": null,
   "id": "03971a6f",
   "metadata": {},
   "outputs": [],
   "source": [
    "key_columns = [\n",
    "    \"price\",\n",
    "    \"average_playtime_forever\",\n",
    "    \"estimated_owners_calculated\",\n",
    "]\n",
    "\n",
    "for col in key_columns:\n",
    "    fig = make_subplots(\n",
    "        rows=2,\n",
    "        cols=2,\n",
    "        subplot_titles=[\n",
    "            \"Original\",\n",
    "            \"PowerTransformer (Yeo-Johnson)\",\n",
    "            \"RobustScaler\",\n",
    "            \"QuantileTransformer (Uniform)\",\n",
    "        ],\n",
    "        vertical_spacing=0.1,\n",
    "    )\n",
    "\n",
    "    fig.add_trace(\n",
    "        go.Histogram(x=base_df[col], name=\"Original\", nbinsx=50, opacity=0.7),\n",
    "        row=1,\n",
    "        col=1,\n",
    "    )\n",
    "\n",
    "    fig.add_trace(\n",
    "        go.Histogram(x=df_power[col], name=\"Power\", nbinsx=50, opacity=0.7),\n",
    "        row=1,\n",
    "        col=2,\n",
    "    )\n",
    "\n",
    "    fig.add_trace(\n",
    "        go.Histogram(x=df_robust[col], name=\"Robust\", nbinsx=50, opacity=0.5),\n",
    "        row=2,\n",
    "        col=1,\n",
    "    )\n",
    "\n",
    "    fig.add_trace(\n",
    "        go.Histogram(x=df_quantile[col], name=\"Quantile\", nbinsx=50, opacity=0.7),\n",
    "        row=2,\n",
    "        col=2,\n",
    "    )\n",
    "\n",
    "    fig.update_layout(\n",
    "        title=f\"Distribution Comparison: {col}\", height=600, showlegend=True\n",
    "    )\n",
    "\n",
    "    fig.show()"
   ]
  },
  {
   "cell_type": "markdown",
   "id": "2e2305db",
   "metadata": {},
   "source": [
    "## Correlation Matrix Comparison"
   ]
  },
  {
   "cell_type": "code",
   "execution_count": null,
   "id": "69d176ff",
   "metadata": {},
   "outputs": [],
   "source": [
    "fig = make_subplots(\n",
    "    rows=2, cols=2,\n",
    "    subplot_titles=list(scalers_data.keys()),\n",
    "    specs=[[{\"type\": \"heatmap\"}, {\"type\": \"heatmap\"}],\n",
    "           [{\"type\": \"heatmap\"}, {\"type\": \"heatmap\"}]]\n",
    ")\n",
    "\n",
    "positions = [(1,1), (1,2), (2,1), (2,2)]\n",
    "\n",
    "for i, (scaler_name, df_scaled) in enumerate(scalers_data.items()):\n",
    "    corr_matrix = df_scaled[numeric_columns].corr()\n",
    "    row, col = positions[i]\n",
    "    \n",
    "    fig.add_trace(\n",
    "        go.Heatmap(\n",
    "            z=corr_matrix.values,\n",
    "            x=corr_matrix.columns,\n",
    "            y=corr_matrix.columns,\n",
    "            colorscale=\"RdBu\",\n",
    "            zmid=0,\n",
    "            showscale=(i==0),\n",
    "            name=scaler_name\n",
    "        ),\n",
    "        row=row, col=col\n",
    "    )\n",
    "\n",
    "fig.update_layout(\n",
    "    title=\"Correlation Matrix Comparison Across Scalers\",\n",
    "    height=1000,\n",
    "    width=1200\n",
    ")\n",
    "\n",
    "fig.show()"
   ]
  },
  {
   "cell_type": "markdown",
   "id": "be764ffb",
   "metadata": {},
   "source": [
    "## Outlier Sensitivity Analysis"
   ]
  },
  {
   "cell_type": "code",
   "execution_count": null,
   "id": "7667d02b",
   "metadata": {},
   "outputs": [],
   "source": [
    "selected_cols = [\n",
    "    \"price\",\n",
    "    \"average_playtime_forever\",\n",
    "    \"estimated_owners_calculated\",\n",
    "]\n",
    "\n",
    "for col in selected_cols:\n",
    "    fig = go.Figure()\n",
    "\n",
    "    for scaler_name, df_scaled in scalers_data.items():\n",
    "        fig.add_trace(go.Box(y=df_scaled[col], name=scaler_name, boxpoints=\"outliers\"))\n",
    "\n",
    "    fig.update_layout(\n",
    "        title=f\"Outlier Comparison: {col}\", yaxis_title=\"Scaled Values\", height=500\n",
    "    )\n",
    "\n",
    "    fig.show()"
   ]
  }
 ],
 "metadata": {
  "kernelspec": {
   "display_name": ".venv",
   "language": "python",
   "name": "python3"
  },
  "language_info": {
   "codemirror_mode": {
    "name": "ipython",
    "version": 3
   },
   "file_extension": ".py",
   "mimetype": "text/x-python",
   "name": "python",
   "nbconvert_exporter": "python",
   "pygments_lexer": "ipython3",
   "version": "3.13.3"
  }
 },
 "nbformat": 4,
 "nbformat_minor": 5
}
