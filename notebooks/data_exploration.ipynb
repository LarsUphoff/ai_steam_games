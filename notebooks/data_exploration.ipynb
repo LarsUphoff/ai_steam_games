{
 "cells": [
  {
   "cell_type": "markdown",
   "id": "51c2624b",
   "metadata": {},
   "source": [
    "# Data Exploration - Steam Games Dataset\n",
    "\n",
    "## Import Libraries and Setup\n"
   ]
  },
  {
   "cell_type": "code",
   "execution_count": null,
   "id": "2f11749c",
   "metadata": {},
   "outputs": [],
   "source": [
    "import sys\n",
    "\n",
    "sys.path.append(\"../src\")\n",
    "\n",
    "import pandas as pd\n",
    "import plotly.express as px\n",
    "import plotly.graph_objects as go\n",
    "\n",
    "from data_preprocessing import base_pipeline, final_cleaning_pipeline, scaling_pipeline\n",
    "\n",
    "\n",
    "pd.set_option(\"display.max_columns\", None)"
   ]
  },
  {
   "cell_type": "markdown",
   "id": "29d880f4",
   "metadata": {},
   "source": [
    "## Pipeline-Based Preprocessing\n"
   ]
  },
  {
   "cell_type": "code",
   "execution_count": null,
   "id": "a14f7c9d",
   "metadata": {},
   "outputs": [],
   "source": [
    "base_pipeline.set_params(data_loading__filepath=\"../data/raw/games.csv\")\n",
    "\n",
    "pre_outlier_df = base_pipeline.fit_transform(None)\n",
    "pre_scaling_df = final_cleaning_pipeline.fit_transform(pre_outlier_df)\n",
    "\n",
    "print(f\"Pre-scaling Dataset shape: {pre_scaling_df.shape}\")\n",
    "print(f\"Columns after preprocessing: {list(pre_scaling_df.columns)}\")\n",
    "pre_scaling_df.info()\n",
    "\n",
    "# Change scaler in data_preprocessing.py to use different scalers (PowerTransformerScaler, QuantileTransformerScaler, RobustTransformerScaler)\n",
    "df = scaling_pipeline.fit_transform(pre_scaling_df)\n",
    "\n",
    "print(f\"Dataset shape: {df.shape}\")\n",
    "print(f\"Columns: {list(df.columns)}\")\n",
    "df.info()"
   ]
  },
  {
   "cell_type": "markdown",
   "id": "3400f6dc",
   "metadata": {},
   "source": [
    "## Dataset Overview\n"
   ]
  },
  {
   "cell_type": "code",
   "execution_count": null,
   "id": "72b40e61",
   "metadata": {},
   "outputs": [],
   "source": [
    "pre_scaling_df.head().to_csv(\n",
    "    \"../data/processed/pre_scaling_dataset_head.csv\", index=False\n",
    ")\n",
    "\n",
    "pre_scaling_df.head()"
   ]
  },
  {
   "cell_type": "code",
   "execution_count": null,
   "id": "5bff8996",
   "metadata": {},
   "outputs": [],
   "source": [
    "pre_scaling_df.describe()"
   ]
  },
  {
   "cell_type": "code",
   "execution_count": null,
   "id": "6261f87d",
   "metadata": {},
   "outputs": [],
   "source": [
    "df.head().to_csv(\"../data/processed/cleaned_dataset_head.csv\", index=False)\n",
    "\n",
    "df.head()"
   ]
  },
  {
   "cell_type": "code",
   "execution_count": null,
   "id": "42e8ef75",
   "metadata": {},
   "outputs": [],
   "source": [
    "df.describe()"
   ]
  },
  {
   "cell_type": "markdown",
   "id": "e34aaf90",
   "metadata": {},
   "source": [
    "## Specific Game Analysis\n"
   ]
  },
  {
   "cell_type": "code",
   "execution_count": null,
   "id": "3bb5ae8e",
   "metadata": {},
   "outputs": [],
   "source": [
    "specific_game_by_id = pre_outlier_df.loc[pre_outlier_df[\"appid\"] == 271590]\n",
    "\n",
    "print(specific_game_by_id)"
   ]
  },
  {
   "cell_type": "code",
   "execution_count": null,
   "id": "a68d90e5",
   "metadata": {},
   "outputs": [],
   "source": [
    "specific_game_by_name = pre_outlier_df[\n",
    "    pre_outlier_df[\"name\"] == \"Shadow of the Tomb Raider: Definitive Edition\"\n",
    "]\n",
    "\n",
    "print(\n",
    "    specific_game_by_name[[\"name\", \"appid\", \"developers\", \"publishers\", \"genres_tags\"]]\n",
    ")"
   ]
  },
  {
   "cell_type": "markdown",
   "id": "afd29754",
   "metadata": {},
   "source": [
    "## Specific Column Analysis\n"
   ]
  },
  {
   "cell_type": "code",
   "execution_count": null,
   "id": "a11939ef",
   "metadata": {},
   "outputs": [],
   "source": [
    "pre_outlier_df[\"weekday\"].value_counts()"
   ]
  },
  {
   "cell_type": "markdown",
   "id": "34215796",
   "metadata": {},
   "source": [
    "## Data Correlation Analysis\n",
    "\n",
    "### Correlation Matrix\n"
   ]
  },
  {
   "cell_type": "code",
   "execution_count": null,
   "id": "9a6a35ca",
   "metadata": {},
   "outputs": [],
   "source": [
    "encoded_feature_prefixes = [\n",
    "    \"weekday_\",\n",
    "    \"review_category_\",\n",
    "    \"genres_tags_\",\n",
    "    \"categories_\",\n",
    "    \"supported_languages_\",\n",
    "    \"full_audio_languages_\",\n",
    "    \"developer_tier_\"\n",
    "]\n",
    "encoded_cols = [\n",
    "    col\n",
    "    for col in df.columns\n",
    "    if any(col.startswith(prefix) for prefix in encoded_feature_prefixes)\n",
    "]\n",
    "\n",
    "numeric_columns = df.select_dtypes(\n",
    "    include=[\"int64\", \"float64\", \"datetime64[ns]\"]\n",
    ").columns\n",
    "filtered_numeric_columns = [col for col in numeric_columns if col not in encoded_cols]\n",
    "\n",
    "correlation_matrix = df[filtered_numeric_columns].corr()\n",
    "\n",
    "fig_heatmap = go.Figure(\n",
    "    data=go.Heatmap(\n",
    "        z=correlation_matrix.values,\n",
    "        x=correlation_matrix.columns,\n",
    "        y=correlation_matrix.columns,\n",
    "        colorscale=\"RdBu\",\n",
    "        zmid=0,\n",
    "        text=correlation_matrix.round(2).values,\n",
    "        texttemplate=\"%{text}\",\n",
    "        textfont={\"size\": 8},\n",
    "        hoverongaps=False,\n",
    "    )\n",
    ")\n",
    "\n",
    "fig_heatmap.update_layout(\n",
    "    title=\"Correlation Matrix of Numeric Variables (Excluding Encoded)\",\n",
    "    width=1200,\n",
    "    height=1000,\n",
    "    xaxis={\"side\": \"bottom\"},\n",
    "    yaxis={\"autorange\": \"reversed\"},\n",
    ")\n",
    "\n",
    "fig_heatmap.show()"
   ]
  },
  {
   "cell_type": "markdown",
   "id": "61a72156",
   "metadata": {},
   "source": [
    "### Categorical Feature Correlation Analysis\n"
   ]
  },
  {
   "cell_type": "code",
   "execution_count": null,
   "id": "1a3061f3",
   "metadata": {},
   "outputs": [],
   "source": [
    "weekday_cols = [col for col in df.columns if col.startswith(\"weekday_\")]\n",
    "dev_tier_cols = [col for col in df.columns if col.startswith(\"developer_tier_\")]\n",
    "categories_cols = [col for col in df.columns if col.startswith(\"categories_\")]\n",
    "genres_tags_cols = [col for col in df.columns if col.startswith(\"genres_tags_\")]\n",
    "supported_languages_cols = [\n",
    "    col for col in df.columns if col.startswith(\"supported_languages_\")\n",
    "]\n",
    "full_audio_languages_cols = [\n",
    "    col for col in df.columns if col.startswith(\"full_audio_languages_\")\n",
    "]\n",
    "\n",
    "key_metrics = [\n",
    "    \"price\",\n",
    "    \"metacritic_score\",\n",
    "    \"average_playtime_forever\",\n",
    "    \"median_playtime_forever\",\n",
    "    \"estimated_owners_calculated\",\n",
    "]\n",
    "\n",
    "categorical_groups = {\n",
    "    \"Weekday\": weekday_cols,\n",
    "    \"Categories\": categories_cols,\n",
    "    \"Genres & Tags\": genres_tags_cols,\n",
    "    \"Supported Languages\": supported_languages_cols,\n",
    "    \"Full Audio Languages\": full_audio_languages_cols,\n",
    "    \"Developer Tier\": dev_tier_cols,\n",
    "}\n",
    "\n",
    "for group_name, cols in categorical_groups.items():\n",
    "    if len(cols) > 0:\n",
    "        categorical_correlations = df[cols + key_metrics].corr()\n",
    "        cat_metric_corr = categorical_correlations.loc[cols, key_metrics]\n",
    "\n",
    "        fig_categorical = go.Figure(\n",
    "            data=go.Heatmap(\n",
    "                z=cat_metric_corr.values,\n",
    "                x=cat_metric_corr.columns,\n",
    "                y=cat_metric_corr.index,\n",
    "                colorscale=\"RdBu\",\n",
    "                zmid=0,\n",
    "                text=cat_metric_corr.round(3).values,\n",
    "                texttemplate=\"%{text}\",\n",
    "                textfont={\"size\": 10},\n",
    "                hoverongaps=False,\n",
    "            )\n",
    "        )\n",
    "\n",
    "        fig_categorical.update_layout(\n",
    "            title=f\"Correlations: {group_name} vs Key Metrics\",\n",
    "            width=1000,\n",
    "            height=max(400, len(cols) * 30),\n",
    "            xaxis={\"side\": \"bottom\", \"title\": \"Key Metrics\"},\n",
    "            yaxis={\"title\": f\"{group_name} Features\"},\n",
    "        )\n",
    "\n",
    "        fig_categorical.show()\n",
    "        print(f\"\\n{group_name} - Number of features: {len(cols)}\")"
   ]
  },
  {
   "cell_type": "markdown",
   "id": "2ff22ab9",
   "metadata": {},
   "source": [
    "## Data Visualization\n",
    "\n",
    "### Key Metrics Analysis\n"
   ]
  },
  {
   "cell_type": "code",
   "execution_count": null,
   "id": "ec048112",
   "metadata": {},
   "outputs": [],
   "source": [
    "encoded_feature_prefixes = [\n",
    "    \"weekday_\",\n",
    "    \"review_category_\",\n",
    "    \"genres_tags_\",\n",
    "    \"categories_\",\n",
    "    \"supported_languages_\",\n",
    "    \"full_audio_languages_\",\n",
    "    \"developer_tier_\"\n",
    "]\n",
    "encoded_cols = [\n",
    "    col\n",
    "    for col in pre_scaling_df.columns\n",
    "    if any(col.startswith(prefix) for prefix in encoded_feature_prefixes)\n",
    "]\n",
    "\n",
    "numeric_columns = pre_scaling_df.select_dtypes(\n",
    "    include=[\"int64\", \"float64\", \"datetime64[ns]\"]\n",
    ").columns\n",
    "filtered_numeric_columns = [col for col in numeric_columns if col not in encoded_cols]\n",
    "\n",
    "for col in filtered_numeric_columns:\n",
    "    fig = px.histogram(\n",
    "        pre_scaling_df, x=col, nbins=50, title=f\"Distribution of {col}\", text_auto=True\n",
    "    )\n",
    "    fig.show()"
   ]
  },
  {
   "cell_type": "markdown",
   "id": "bac7439f",
   "metadata": {},
   "source": [
    "## Overview of Games with NaN Values\n"
   ]
  },
  {
   "cell_type": "code",
   "execution_count": null,
   "id": "62b0c826",
   "metadata": {},
   "outputs": [],
   "source": [
    "nan_games = pre_outlier_df[pre_outlier_df[\"appid\"].isna()]\n",
    "print(f\"Number of games with NaN values: {len(nan_games)}\")\n",
    "print(nan_games[[\"name\", \"appid\", \"developers\", \"publishers\"]].head(10))"
   ]
  }
 ],
 "metadata": {
  "kernelspec": {
   "display_name": ".venv",
   "language": "python",
   "name": "python3"
  },
  "language_info": {
   "codemirror_mode": {
    "name": "ipython",
    "version": 3
   },
   "file_extension": ".py",
   "mimetype": "text/x-python",
   "name": "python",
   "nbconvert_exporter": "python",
   "pygments_lexer": "ipython3",
   "version": "3.13.3"
  }
 },
 "nbformat": 4,
 "nbformat_minor": 5
}
